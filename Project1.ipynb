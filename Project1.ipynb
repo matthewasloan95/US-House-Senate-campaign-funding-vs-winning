{
 "cells": [
  {
   "cell_type": "markdown",
   "id": "d4d5092c-720a-4467-96cc-bc8f700a243b",
   "metadata": {},
   "source": [
    "# Matt Sloan Data Mining Project 1"
   ]
  },
  {
   "cell_type": "markdown",
   "id": "e9f4f654-40b4-40ac-85aa-60f8bb2f9a8b",
   "metadata": {},
   "source": [
    "## Introduce the problem\n",
    "#### Introduce the project. What is the problem you are trying to solve? What questions are you trying to find answers to?\n",
    "---\n",
    "\n",
    "I want to compare the money in/out for US Congress members and see if that impacts their chance of wining.\n",
    "I hypothesize that the higher the expenditures (per registered voter per state) that the higher the odds of a candidate winning. Additionally, I want to see if candidates in states (overall) that spend more money have higher voter turnouts, think something like total votes per capita per dollar or something along those lines.\n",
    "I am also interseted in seeing just how beneficial being incumbent is.\n",
    "---"
   ]
  },
  {
   "cell_type": "markdown",
   "id": "91407dbd-7f64-41ff-b1a4-c25b6c245353",
   "metadata": {},
   "source": [
    "## Introduce the data\n",
    "#### Where did you find it. What is the data about (include links)? What are the features (with additional explanations if not already self-explanatory from the name itself)?\n",
    "---\n",
    "TODO: update year 2000 links\n",
    "\n",
    "There are many many fields, and since these results and expenditure reports come from a range of years, they do tend to change over time. \n",
    "Generally though, the expenditures are the same with fields including the Candidates Federal Election Commission (FEC) ID, name, Incumbent challenger status, party code, many receipts and disbursements, beginning and ending cash, loans, debts, district, refunds and more.\n",
    "\n",
    "The results files are the tough part with a few different layouts, the 1996 file for example is a mess. But generally they all contain State names, abbreviatrions, districts, names, FEC ID's, primary votes and percentages, general votes and percentages, and incumbent status. \n",
    "\n",
    "---"
   ]
  },
  {
   "cell_type": "markdown",
   "id": "4dff1f9c-889d-4830-a2eb-eca9902c0c21",
   "metadata": {},
   "source": [
    "##### Some links\n",
    "https://www.fec.gov/data/browse-data/?tab=bulk-data\n",
    "https://www.fec.gov/campaign-finance-data/current-campaigns-house-and-senate-file-description/\n",
    "\n",
    "Results, form of link and then additional info avail to download on next line\n",
    "https://www.fec.gov/documents/1722/FederalElections96_1996Senate.xlsx\n",
    "Senate excel, vote summary pdf\n",
    "\n",
    "https://www.fec.gov/documents/1727/FederalElections98_SenateResults.pdf\n",
    "entire publication pdf\n",
    "\n",
    "https://www.fec.gov/documents/1734/2000tables.xls\n",
    "Senate, House results by state excel\n",
    "\n",
    "https://www.fec.gov/documents/1620/2002fedresults.xls\n",
    "Senate, House results excel\n",
    "\n",
    "https://www.fec.gov/documents/1625/2004congresults.xls\n",
    "entire publication excel\n",
    "\n",
    "https://www.fec.gov/documents/1656/results06.xls\n",
    "senate, house pdf. entire publication excel\n",
    "\n",
    "https://www.fec.gov/documents/1659/2008congresults.xls\n",
    "Entire publication excel\n",
    "\n",
    "https://www.fec.gov/documents/1677/results10.xls\n",
    "senate, house pdf. entire publication excel\n",
    "\n",
    "https://www.fec.gov/documents/1682/2012congresults.xls\n",
    "entire publicatin excel\n",
    "\n",
    "https://www.fec.gov/documents/1705/results14.xls\n",
    "entire publication excel. senate, house pdf\n",
    "\n",
    "https://www.fec.gov/documents/1890/federalelections2016.xlsx\n",
    "no other options\n",
    "\n",
    "https://www.fec.gov/documents/2706/federalelections2018.xlsx\n",
    "no other options\n",
    "\n",
    "2020 - only presidential ?"
   ]
  },
  {
   "cell_type": "code",
   "execution_count": 1,
   "id": "74b7257d-a6b2-4e11-9527-980068fcdf08",
   "metadata": {},
   "outputs": [],
   "source": [
    "# to download files\n",
    "import requests\n",
    "# to check if dir/files exist (do we need to download them?)\n",
    "import os\n",
    "# some of these are zips, we must unzip\n",
    "import zipfile\n",
    "\n",
    "# Function generate URL, download and unzip\n",
    "def download_file(_year: int):\n",
    "    \n",
    "    shortyear = str(_year)[-2:] # 1996 -> 96\n",
    "    url1 = 'https://www.fec.gov/files/bulk-downloads/'\n",
    "    url2 = str(_year)\n",
    "    url3 = '/webl'\n",
    "    url4 = shortyear\n",
    "    url5 = '.zip'\n",
    "    \n",
    "    URL = url1+url2+url3+url4+url5\n",
    "    \n",
    "    r = requests.get(URL)\n",
    "    \n",
    "    # Download from url https://requests.readthedocs.io/en/latest/\n",
    "    with open(\"data/webl\" + str(shortyear) + \".zip\", \"wb\") as f:\n",
    "        f.write(r.content)\n",
    "        \n",
    "    # unzip downloaded file https://www.pythonpool.com/python-unzip/\n",
    "    try:\n",
    "        with zipfile.ZipFile(\"data/webl\" + shortyear + \".zip\") as z:\n",
    "            z.extractall(\"data/\")\n",
    "    except:\n",
    "        print(\"error:\" + \"webl\" + shortyear)\n",
    "        \n",
    "    # Function to download all of the results\n",
    "def download_results():\n",
    "    # Download all of the results\n",
    "    RESULTS_URLS = ('https://www.fec.gov/documents/2706/federalelections2018.xlsx', 'https://www.fec.gov/documents/1890/federalelections2016.xlsx', 'https://www.fec.gov/documents/1705/results14.xls', \"https://www.fec.gov/documents/1682/2012congresults.xls\", \"https://www.fec.gov/documents/1677/results10.xls\", \"https://www.fec.gov/documents/1659/2008congresults.xls\", \"https://www.fec.gov/documents/1656/results06.xls\", \"https://www.fec.gov/documents/1625/2004congresults.xls\", \"https://www.fec.gov/documents/1620/2002fedresults.xls\", \"https://www.fec.gov/documents/1616/2000house.xls\", \"https://www.fec.gov/documents/1615/2000senate.xls\", \"https://www.fec.gov/documents/1727/FederalElections98_SenateResults.pdf\", \"https://www.fec.gov/documents/1722/FederalElections96_1996Senate.xlsx\")\n",
    "    \n",
    "    for link in RESULTS_URLS:\n",
    "        r = requests.get(link)\n",
    "        with open(\"data/\" + link[link.rindex(\"/\")+1:], \"wb\") as f:\n",
    "            f.write(r.content)"
   ]
  },
  {
   "cell_type": "code",
   "execution_count": 2,
   "id": "0e477060-ae40-4ae1-9ff9-962bb2aeb958",
   "metadata": {},
   "outputs": [],
   "source": [
    "# If this is the first time running, we need the dir and files\n",
    "if not os.path.exists(\"data/\"):\n",
    "    os.mkdir(\"data/\")\n",
    "    \n",
    "    # Some needed variables for downloading\n",
    "    START_YEAR = 1996\n",
    "    END_YEAR = 2022\n",
    "    YEAR_LIST = range(START_YEAR, END_YEAR + 2, 2)\n",
    "\n",
    "    \n",
    "    \n",
    "    # download and unzip all of these files\n",
    "    for year in YEAR_LIST:\n",
    "        download_file(year)\n",
    "        \n",
    "    download_results()"
   ]
  },
  {
   "cell_type": "markdown",
   "id": "d720e8c3-96a3-48ee-8744-9111ed66e2f2",
   "metadata": {},
   "source": [
    "#### Putting all of these goods into a df"
   ]
  },
  {
   "cell_type": "code",
   "execution_count": 3,
   "id": "550a794d-25e4-427b-85d2-4fbd9e80cc7b",
   "metadata": {},
   "outputs": [],
   "source": [
    "import pandas as pd\n",
    "\n",
    "# We need to seperate the xlsx/pdf files from the txt\n",
    "all_files = os.listdir(\"data/\")\n",
    "# results_list = []\n",
    "expenditures_list = []\n",
    "\n",
    "for file_name in all_files:\n",
    "    # if file_name[-4:] == \".xls\" or file_name[-5:] == \".xlsx\":# or file_name[-4:] == \".pdf\":\n",
    "    #     results_list.append(\"data/\" + file_name)\n",
    "    if file_name[-4:] == \".txt\":\n",
    "        expenditures_list.append(\"data/\" + file_name)\n",
    "\n",
    "# "
   ]
  },
  {
   "cell_type": "markdown",
   "id": "22346fb1-9638-4e68-ae97-4ff8336c58c9",
   "metadata": {},
   "source": [
    "## Pre-processing the data\n",
    "#### What pre-processing steps do you follow? Explain why you do each pre-processing step.\n",
    "---\n",
    "The first step of course is putting all these files into dataframes. \n",
    "Some of these results files have multiples sheets so I intend to:\n",
    "* split the sheets up into their own df's to make them more manageable\n",
    "* rid of columns I will not be using to start to bring together a usuable df\n",
    "* rid of rows with entire NaN values\n",
    "Luckily the finance files are generally the same and just dilimitted with | \n",
    "* remove unneeded columns\n",
    "* remove candidates that are not also in the results (for example they ran a campaign but didn't even make it to the primaries)\n",
    "\n",
    "Afterwards, I plan to have each candidate for every year that was in the primaries and general elections in a single df along with their campaign finance data.\n",
    "\n",
    "Additionally it looks like NC held a special election from 2018 that was in 2019? I need to look into that... TODO: \n",
    "\n",
    "---"
   ]
  },
  {
   "cell_type": "code",
   "execution_count": 4,
   "id": "adf81061-5c3b-4707-8335-f28aa40d927a",
   "metadata": {},
   "outputs": [
    {
     "name": "stdout",
     "output_type": "stream",
     "text": [
      "['data/webl96.txt', 'data/webl18.txt', 'data/webl16.txt', 'data/webl00.txt', 'data/webl02.txt', 'data/webl06.txt', 'data/webl12.txt', 'data/webl20.txt', 'data/webl08.txt', 'data/webl14.txt', 'data/webl10.txt', 'data/webl98.txt', 'data/webl04.txt', 'data/webl22.txt']\n"
     ]
    }
   ],
   "source": [
    "# print(results_list)\n",
    "print(expenditures_list)"
   ]
  },
  {
   "cell_type": "code",
   "execution_count": 5,
   "id": "7dd90de8-3da6-47e6-9f01-824c5d1f6dde",
   "metadata": {},
   "outputs": [],
   "source": [
    "exp_colm_names = ['CAND_ID', 'CAND_NAME', 'CAND_ICI', 'PTY_CD', 'CAND_PTY_AFFILIATION', 'TTL_RECEIPTS', 'TRANS_FROM_AUTH', 'TTL_DISB', 'TRANS_TO_AUTH', 'COH_BOP', 'COH_COP', 'CAND_CONTRIB', 'CAND_LOANS', 'OTHER_LOANS', 'CAND_LOAN_REPAY', 'OTHER_LOAN_REPAY', 'DEBTS_OWED_BY', 'TTL_INDIV_CONTRIB', 'CAND_OFFICE_ST', 'CAND_OFFICE_DISTRICT', 'SPEC_ELECTION', 'PRIM_ELECTION', 'RUN_ELECTION', 'GEN_ELECTION', 'GEN_ELECTION_PRECENT', 'OTHER_POL_CMTE_CONTRIB', 'POL_PTY_CONTRIB', 'CVG_END_DT', 'INDIV_REFUNDS', 'CMTE_REFUNDS']\n",
    "\n",
    "exp_df_list = []\n",
    "for x in expenditures_list:\n",
    "    exp_df_list.append(pd.read_csv(x, delimiter='|', names=exp_colm_names))\n",
    "    \n",
    "# TODO: explicitly set dyptes"
   ]
  },
  {
   "cell_type": "code",
   "execution_count": 23,
   "id": "8b0642a5-01d8-46ca-bc78-e1855bdb087a",
   "metadata": {},
   "outputs": [],
   "source": [
    "# result_df_list = []\n",
    "# for x in results_list:\n",
    "#     print(x)\n",
    "\n",
    "    \n",
    "    # 14 - 1,2,3\n",
    "    # 10 - 1\n",
    "    # 06 - 1\n",
    "    # 96 - IS A MESS\n",
    "    # 16 - 11, 12\n",
    "    # 18 - 6, 7, 8 (NC New election?)\n",
    "    # 12 - 4\n",
    "    # 08 - 1\n",
    "    # 04 - 1\n",
    "    # 02 - 0\n",
    "    # 00 - senate: 0,1,3 house: 0, 1\n",
    "\n",
    "# TODO: remove rows with all Na\n",
    "congress_96_df = pd.read_excel('data/FederalElections96_1996Senate.xlsx')   # TODO: IS A MESS\n",
    "# TODO: 98 IS IN PDF\n",
    "senate_00_df = pd.read_excel('data/senate2000.xls', sheet_name=[0,1,3]) # Sheet 0: US Senate master. Sheet 1: Senate w/totals & percent. Sheet 3: shows winners in 2000 \n",
    "house_00_df = pd.read_excel('data/2000house.xls', sheet_name=[0,1]) # Sheet 0: US House master. Sheet 1: House w/ totals & percent.\n",
    "congress_02_df = pd.read_excel('data/2002fedresults.xls', sheet_name=0) # good, assuming District S is senate\n",
    "congress_04_df = pd.read_excel('data/2004congresults.xls', sheet_name=1) # good, assuming District S is senate\n",
    "congress_06_df = pd.read_excel('data/results06.xls', sheet_name=1) # good, assuming District S is senate\n",
    "congress_08_df = pd.read_excel('data/2008congresults.xls', sheet_name=1) # good, assuming District S is senate\n",
    "congress_10_df = pd.read_excel('data/results10.xls', sheet_name=1) # good, assuming District S is senate. NY what is SUN, SFULL, UNEXPIREDTERM?\n",
    "congress_12_df = pd.read_excel('data/2012congresults.xls', sheet_name=4) # TODO: check this\n",
    "congress_14_df = pd.read_excel('data/results14.xls', sheet_name=[1,2,3]) # TODO: check this\n",
    "congress_16_df = pd.read_excel('data/federalelections2016.xlsx', sheet_name=[11,12]) # TODO: check this\n",
    "congress_18_df = pd.read_excel('data/federalelections2018.xlsx', sheet_name=[6,7,8]) # TODO: check this"
   ]
  },
  {
   "cell_type": "code",
   "execution_count": null,
   "id": "a231cc3d-7184-402a-a92c-52a3972bfb8c",
   "metadata": {},
   "outputs": [],
   "source": []
  },
  {
   "cell_type": "markdown",
   "id": "c4660b36-a984-4e00-95f8-76149970552b",
   "metadata": {},
   "source": [
    "## Data Understanding/Visualization\n",
    "#### Use methods to try to further understand and visualize the data. Make sure to remember your initial problems/questions when completing this step.\n",
    "#### While exploring, does anything else stand out to you (perhaps any surprising insights?)\n",
    "---\n",
    "\n",
    "---"
   ]
  },
  {
   "cell_type": "markdown",
   "id": "407c8dfd-9cda-4cd9-ba4a-9fde9594f8c6",
   "metadata": {},
   "source": [
    "## This criterion is linked to a Learning OutcomeStorytelling\n",
    "#### What have you learned? Tell a story around your visualizations.\n",
    "#### Were you able to answer your initial problems/questions (if so, discuss that)?\n",
    "---\n",
    "\n",
    "---"
   ]
  },
  {
   "cell_type": "markdown",
   "id": "77a87e1e-1a41-4e11-9c3a-1e151d5bd3a1",
   "metadata": {},
   "source": [
    "## Impact Section\n",
    "#### Discuss the possible impact of your project. For example, how could your visualizations cause possible harm? What data or perspectives might be missing from this work?\n",
    "\n",
    "###### We will not be checking for \"right\" or \"wrong\" answers, but showing your critical thinking. We understand some datasets may be more difficult to discuss than others - do your best!\n",
    "---\n",
    "\n",
    "---"
   ]
  },
  {
   "cell_type": "markdown",
   "id": "557bb7b0-452b-488d-b12a-301c35e9f8c8",
   "metadata": {},
   "source": [
    "## This criterion is linked to a Learning OutcomeReferences\n",
    "#### Include any references."
   ]
  },
  {
   "cell_type": "markdown",
   "id": "6b98ece5-a853-457a-aa4d-590f1a1001e6",
   "metadata": {},
   "source": [
    "## This criterion is linked to a Learning OutcomeCode\n",
    "#### Make sure to include your code somehow as well. You can do this in various ways. For example, you can include code snippets throughout your writing and/or include a link to your Jupyter notebook file."
   ]
  },
  {
   "cell_type": "code",
   "execution_count": null,
   "id": "e8dadf3c-eef6-4c1b-8a15-d3f1c82d7fdb",
   "metadata": {},
   "outputs": [],
   "source": []
  }
 ],
 "metadata": {
  "kernelspec": {
   "display_name": "Python 3 (ipykernel)",
   "language": "python",
   "name": "python3"
  },
  "language_info": {
   "codemirror_mode": {
    "name": "ipython",
    "version": 3
   },
   "file_extension": ".py",
   "mimetype": "text/x-python",
   "name": "python",
   "nbconvert_exporter": "python",
   "pygments_lexer": "ipython3",
   "version": "3.9.12"
  }
 },
 "nbformat": 4,
 "nbformat_minor": 5
}
