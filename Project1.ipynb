{
 "cells": [
  {
   "cell_type": "markdown",
   "id": "d4d5092c-720a-4467-96cc-bc8f700a243b",
   "metadata": {},
   "source": [
    "# Matt Sloan Data Mining Project 1"
   ]
  },
  {
   "cell_type": "markdown",
   "id": "e9f4f654-40b4-40ac-85aa-60f8bb2f9a8b",
   "metadata": {},
   "source": [
    "### Introduce the problem\n",
    "Introduce the project. What is the problem you are trying to solve? What questions are you trying to find answers to?"
   ]
  },
  {
   "cell_type": "markdown",
   "id": "91407dbd-7f64-41ff-b1a4-c25b6c245353",
   "metadata": {},
   "source": [
    "### Introduce the data\n",
    "Where did you find it. What is the data about (include links)? What are the features (with additional explanations if not already self-explanatory from the name itself)?"
   ]
  },
  {
   "cell_type": "markdown",
   "id": "4dff1f9c-889d-4830-a2eb-eca9902c0c21",
   "metadata": {},
   "source": [
    "##### Some links\n",
    "https://www.fec.gov/data/browse-data/?tab=bulk-data\n",
    "https://www.fec.gov/campaign-finance-data/current-campaigns-house-and-senate-file-description/\n",
    "\n",
    "Results, form of link and then additional info avail to download on next line\n",
    "https://www.fec.gov/documents/1722/FederalElections96_1996Senate.xlsx\n",
    "Senate excel, vote summary pdf\n",
    "\n",
    "https://www.fec.gov/documents/1727/FederalElections98_SenateResults.pdf\n",
    "entire publication pdf\n",
    "\n",
    "https://www.fec.gov/documents/1734/2000tables.xls\n",
    "Senate, House results by state excel\n",
    "\n",
    "https://www.fec.gov/documents/1620/2002fedresults.xls\n",
    "Senate, House results excel\n",
    "\n",
    "https://www.fec.gov/documents/1625/2004congresults.xls\n",
    "entire publication excel\n",
    "\n",
    "https://www.fec.gov/documents/1656/results06.xls\n",
    "senate, house pdf. entire publication excel\n",
    "\n",
    "https://www.fec.gov/documents/1659/2008congresults.xls\n",
    "Entire publication excel\n",
    "\n",
    "https://www.fec.gov/documents/1677/results10.xls\n",
    "senate, house pdf. entire publication excel\n",
    "\n",
    "https://www.fec.gov/documents/1682/2012congresults.xls\n",
    "entire publicatin excel\n",
    "\n",
    "https://www.fec.gov/documents/1705/results14.xls\n",
    "entire publication excel. senate, house pdf\n",
    "\n",
    "https://www.fec.gov/documents/1890/federalelections2016.xlsx\n",
    "no other options\n",
    "\n",
    "https://www.fec.gov/documents/2706/federalelections2018.xlsx\n",
    "no other options\n",
    "\n",
    "2020 - only presidential"
   ]
  },
  {
   "cell_type": "code",
   "execution_count": 5,
   "id": "74b7257d-a6b2-4e11-9527-980068fcdf08",
   "metadata": {},
   "outputs": [],
   "source": [
    "# to download files\n",
    "import requests\n",
    "# to check if dir/files exist (do we need to download them?)\n",
    "import os\n",
    "# some of these are zips, we must unzip\n",
    "import zipfile\n",
    "\n",
    "# Function generate URL, download and unzip\n",
    "def download_file(_year: int):\n",
    "    \n",
    "    shortyear = str(_year)[-2:] # 1996 -> 96\n",
    "    url1 = 'https://www.fec.gov/files/bulk-downloads/'\n",
    "    url2 = str(_year)\n",
    "    url3 = '/webl'\n",
    "    url4 = shortyear\n",
    "    url5 = '.zip'\n",
    "    \n",
    "    URL = url1+url2+url3+url4+url5\n",
    "    \n",
    "    r = requests.get(URL)\n",
    "    \n",
    "    # Download from url https://requests.readthedocs.io/en/latest/\n",
    "    with open(\"data/webl\" + str(shortyear) + \".zip\", \"wb\") as f:\n",
    "        f.write(r.content)\n",
    "        \n",
    "    # unzip downloaded file https://www.pythonpool.com/python-unzip/\n",
    "    try:\n",
    "        with zipfile.ZipFile(\"data/webl\" + shortyear + \".zip\") as z:\n",
    "            z.extractall(\"data/\")\n",
    "    except:\n",
    "        print(\"error:\" + \"webl\" + shortyear)\n",
    "        \n",
    "    # Function to download all of the results\n",
    "def download_results():\n",
    "    # Download all of the results\n",
    "    RESULTS_URLS = ('https://www.fec.gov/documents/2706/federalelections2018.xlsx', 'https://www.fec.gov/documents/1890/federalelections2016.xlsx', 'https://www.fec.gov/documents/1705/results14.xls', \"https://www.fec.gov/documents/1682/2012congresults.xls\", \"https://www.fec.gov/documents/1677/results10.xls\", \"https://www.fec.gov/documents/1659/2008congresults.xls\", \"https://www.fec.gov/documents/1656/results06.xls\", \"https://www.fec.gov/documents/1625/2004congresults.xls\", \"https://www.fec.gov/documents/1620/2002fedresults.xls\", \"https://www.fec.gov/documents/1734/2000tables.xls\", \"https://www.fec.gov/documents/1727/FederalElections98_SenateResults.pdf\", \"https://www.fec.gov/documents/1722/FederalElections96_1996Senate.xlsx\")\n",
    "    \n",
    "    for link in RESULTS_URLS:\n",
    "        r = requests.get(link)\n",
    "        with open(\"data/\" + link[link.rindex(\"/\")+1:], \"wb\") as f:\n",
    "            f.write(r.content)"
   ]
  },
  {
   "cell_type": "code",
   "execution_count": 6,
   "id": "0e477060-ae40-4ae1-9ff9-962bb2aeb958",
   "metadata": {},
   "outputs": [],
   "source": [
    "# If this is the first time running, we need the dir and files\n",
    "if not os.path.exists(\"data/\"):\n",
    "    os.mkdir(\"data/\")\n",
    "    \n",
    "    # Some needed variables for downloading\n",
    "    START_YEAR = 1996\n",
    "    END_YEAR = 2022\n",
    "    YEAR_LIST = range(START_YEAR, END_YEAR + 2, 2)\n",
    "\n",
    "    \n",
    "    \n",
    "    # download and unzip all of these files\n",
    "    for year in YEAR_LIST:\n",
    "        download_file(year)\n",
    "        \n",
    "    download_results()"
   ]
  },
  {
   "cell_type": "markdown",
   "id": "d720e8c3-96a3-48ee-8744-9111ed66e2f2",
   "metadata": {},
   "source": [
    "#### Putting all of these goods into a df"
   ]
  },
  {
   "cell_type": "code",
   "execution_count": 30,
   "id": "550a794d-25e4-427b-85d2-4fbd9e80cc7b",
   "metadata": {},
   "outputs": [],
   "source": [
    "import pandas as pd\n",
    "\n",
    "# We need to seperate the xlsx/pdf files from the txt\n",
    "all_files = os.listdir(\"data/\")\n",
    "results_list = []\n",
    "expenditures_list = []\n",
    "\n",
    "for file_name in all_files:\n",
    "    if file_name[-4:] == \".xls\" or file_name[-4:] == \".pdf\" or file_name[-5:] == \".xlsx\":\n",
    "        results_list.append(file_name)\n",
    "    if file_name[-4:] == \".txt\":\n",
    "        expenditures_list.append(file_name)\n",
    "\n",
    "# "
   ]
  },
  {
   "cell_type": "markdown",
   "id": "22346fb1-9638-4e68-ae97-4ff8336c58c9",
   "metadata": {},
   "source": [
    "### Pre-processing the data\n",
    "What pre-processing steps do you follow? Explain why you do each pre-processing step."
   ]
  },
  {
   "cell_type": "code",
   "execution_count": 31,
   "id": "adf81061-5c3b-4707-8335-f28aa40d927a",
   "metadata": {},
   "outputs": [
    {
     "name": "stdout",
     "output_type": "stream",
     "text": [
      "['2000tables.xls', '2002fedresults.xls', '2004congresults.xls', '2008congresults.xls', '2012congresults.xls', 'federalelections2016.xlsx', 'federalelections2018.xlsx', 'FederalElections96_1996Senate.xlsx', 'FederalElections98_SenateResults.pdf', 'results06.xls', 'results10.xls', 'results14.xls']\n",
      "['webl00.txt', 'webl02.txt', 'webl04.txt', 'webl06.txt', 'webl08.txt', 'webl10.txt', 'webl12.txt', 'webl14.txt', 'webl16.txt', 'webl18.txt', 'webl20.txt', 'webl22.txt', 'webl96.txt', 'webl98.txt']\n"
     ]
    }
   ],
   "source": [
    "print(results_list)\n",
    "print(expenditures_list)"
   ]
  },
  {
   "cell_type": "code",
   "execution_count": null,
   "id": "7dd90de8-3da6-47e6-9f01-824c5d1f6dde",
   "metadata": {},
   "outputs": [],
   "source": []
  }
 ],
 "metadata": {
  "kernelspec": {
   "display_name": "Python 3 (ipykernel)",
   "language": "python",
   "name": "python3"
  },
  "language_info": {
   "codemirror_mode": {
    "name": "ipython",
    "version": 3
   },
   "file_extension": ".py",
   "mimetype": "text/x-python",
   "name": "python",
   "nbconvert_exporter": "python",
   "pygments_lexer": "ipython3",
   "version": "3.10.0"
  }
 },
 "nbformat": 4,
 "nbformat_minor": 5
}
